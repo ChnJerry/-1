{
 "cells": [
  {
   "cell_type": "code",
   "execution_count": 1,
   "metadata": {},
   "outputs": [],
   "source": [
    "import numpy as np\n",
    "import pandas as pd\n",
    "import matplotlib\n",
    "import matplotlib.pyplot as plt\n",
    "import sklearn"
   ]
  },
  {
   "cell_type": "code",
   "execution_count": 3,
   "metadata": {},
   "outputs": [
    {
     "name": "stdout",
     "output_type": "stream",
     "text": [
      "     x    y\n",
      "0   90  7.0\n",
      "1   59  7.5\n",
      "2   66  6.6\n",
      "3   87  7.2\n",
      "4   90  7.0\n",
      "5  106  5.4\n",
      "6   94  6.4\n",
      "7   57  7.0\n",
      "8  138  5.1\n",
      "9   87  7.2\n"
     ]
    }
   ],
   "source": [
    "data=pd.read_csv(\"./pandas.csv\")\n",
    "print(data)"
   ]
  },
  {
   "cell_type": "code",
   "execution_count": 13,
   "metadata": {},
   "outputs": [
    {
     "data": {
      "image/png": "[encoded data removed]",
      "text/plain": [
       "<Figure size 432x288 with 1 Axes>"
      ]
     },
     "metadata": {
      "needs_background": "light"
     },
     "output_type": "display_data"
    },
    {
     "name": "stdout",
     "output_type": "stream",
     "text": [
      "根据散点图，表明价格随着汽车行驶里程数增加而减少\n"
     ]
    }
   ],
   "source": [
    "X=np.c_[data['x']]\n",
    "Y=np.c_[data['y']]\n",
    "data.plot(kind=\"scatter\",x=\"x\",y=\"y\")\n",
    "plt.show()\n",
    "print(\"根据散点图，表明价格随着汽车行驶里程数增加而减少\")"
   ]
  },
  {
   "cell_type": "code",
   "execution_count": 14,
   "metadata": {},
   "outputs": [
    {
     "name": "stdout",
     "output_type": "stream",
     "text": [
      "斜率：-0.026329477525036865，截距：8.941196335688222\n",
      "估计模型为：y=-0.026329477525036865x+8.941196335688222y\n"
     ]
    }
   ],
   "source": [
    "from sklearn import linear_model\n",
    "lr_model=linear_model.LinearRegression()\n",
    "lr_model.fit(X,Y)\n",
    "print(\"斜率：%s，截距：%s\"%(lr_model.coef_[0][0],lr_model.intercept_[0]))\n",
    "print(\"估计模型为：y=%sx+%sy\"%(lr_model.coef_[0][0],lr_model.intercept_[0]))"
   ]
  },
  {
   "cell_type": "code",
   "execution_count": 6,
   "metadata": {},
   "outputs": [
    {
     "data": {
      "image/png": "[encoded data removed]",
      "text/plain": [
       "<Figure size 432x288 with 1 Axes>"
      ]
     },
     "metadata": {
      "needs_background": "light"
     },
     "output_type": "display_data"
    }
   ],
   "source": [
    "data.plot(kind=\"scatter\",x=\"x\",y=\"y\")\n",
    "plt.plot(X,lr_model.predict(X.reshape(-1,1)),color='red',linewidth=4)\n",
    "plt.show()"
   ]
  },
  {
   "cell_type": "code",
   "execution_count": 15,
   "metadata": {},
   "outputs": [
    {
     "name": "stdout",
     "output_type": "stream",
     "text": [
      "预测该车的销售价格为： [[6.30824858]]\n"
     ]
    }
   ],
   "source": [
    "X_new=[[100]]\n",
    "plt.rcParams['font.sans-serif']=['SimHei']\n",
    "print(\"预测该车的销售价格为：\",lr_model.predict(X_new))"
   ]
  }
 ],
 "metadata": {
  "kernelspec": {
   "display_name": "Python 3",
   "language": "python",
   "name": "python3"
  },
  "language_info": {
   "codemirror_mode": {
    "name": "ipython",
    "version": 3
   },
   "file_extension": ".py",
   "mimetype": "text/x-python",
   "name": "python",
   "nbconvert_exporter": "python",
   "pygments_lexer": "ipython3",
   "version": "3.7.1"
  }
 },
 "nbformat": 4,
 "nbformat_minor": 2
}
